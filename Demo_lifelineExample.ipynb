{
 "cells": [
  {
   "cell_type": "markdown",
   "metadata": {
    "collapsed": true
   },
   "source": [
    "### DeepSurv on Keras 2.x"
   ]
  },
  {
   "cell_type": "code",
   "execution_count": 1,
   "metadata": {},
   "outputs": [
    {
     "name": "stderr",
     "output_type": "stream",
     "text": [
      "Using TensorFlow backend.\n"
     ]
    },
    {
     "name": "stderr",
     "output_type": "stream",
     "text": [
      "/home/uemura/.virtualenvs/DeepSurv_3.6/lib/python3.6/importlib/_bootstrap.py:219: RuntimeWarning: numpy.dtype size changed, may indicate binary incompatibility. Expected 96, got 88\n  return f(*args, **kwds)\n/home/uemura/.virtualenvs/DeepSurv_3.6/lib/python3.6/importlib/_bootstrap.py:219: RuntimeWarning: numpy.dtype size changed, may indicate binary incompatibility. Expected 96, got 88\n  return f(*args, **kwds)\n"
     ]
    },
    {
     "name": "stderr",
     "output_type": "stream",
     "text": [
      "/home/uemura/.virtualenvs/DeepSurv_3.6/lib/python3.6/site-packages/sklearn/cross_validation.py:41: DeprecationWarning: This module was deprecated in version 0.18 in favor of the model_selection module into which all the refactored classes and functions are moved. Also note that the interface of the new CV iterators are different from that of this module. This module will be removed in 0.20.\n  \"This module will be removed in 0.20.\", DeprecationWarning)\n"
     ]
    }
   ],
   "source": [
    "# Survival Analysis using Keras\n",
    "import numpy as np\n",
    "\n",
    "from keras.optimizers import SGD, RMSprop\n",
    "\n",
    "from lifelines.utils import concordance_index\n",
    "from lifelines import CoxPHFitter\n",
    "\n",
    "from lifelines.datasets import load_rossi\n",
    "from sklearn.cross_validation import train_test_split\n",
    "from sklearn import preprocessing\n",
    "\n",
    "import deepsurv_keras"
   ]
  },
  {
   "cell_type": "markdown",
   "metadata": {},
   "source": [
    "### Load Rossi dataset"
   ]
  },
  {
   "cell_type": "code",
   "execution_count": 2,
   "metadata": {},
   "outputs": [],
   "source": [
    "rossi_dataset = load_rossi()\n",
    "E = np.array(rossi_dataset[\"arrest\"])\n",
    "Y = np.array(rossi_dataset[\"week\"])\n",
    "X = np.array(rossi_dataset)\n",
    "X = X.astype('float64')\n",
    "X = X[:, 2:]\n",
    "\n",
    "X_train, X_val, Y_train, Y_val = train_test_split(X, Y, test_size=0.25, random_state=0)\n",
    "X_train, X_val, E_train, E_val = train_test_split(X, E, test_size=0.25, random_state=0)\n",
    "\n",
    "# Standardize\n",
    "scaler = preprocessing.StandardScaler().fit(X_train[:, [1, 6]])\n",
    "X_train[:, [1, 6]] = scaler.transform(X_train[:, [1, 6]])\n",
    "X_val[:, [1, 6]] = scaler.transform(X_val[:, [1, 6]])\n",
    "\n",
    "# Sorting for NNL!\n",
    "sort_idx = np.argsort(Y_train)[::-1]\n",
    "X_train = X_train[sort_idx]\n",
    "Y_train = Y_train[sort_idx]\n",
    "E_train = E_train[sort_idx]"
   ]
  },
  {
   "cell_type": "markdown",
   "metadata": {},
   "source": [
    "### Build and train DeepSurv on Keras 2.x"
   ]
  },
  {
   "cell_type": "code",
   "execution_count": 3,
   "metadata": {},
   "outputs": [],
   "source": [
    "model = deepsurv_keras.build_model()\n",
    "\n",
    "sgd = SGD(lr=1e-5, decay=0.01, momentum=0.9, nesterov=True)\n",
    "rmsprop = RMSprop(lr=1e-5, rho=0.9, epsilon=1e-8)\n",
    "model.compile(loss=deepsurv_keras.negative_log_likelihood(E_train), optimizer=sgd, metrics=['accuracy'])"
   ]
  },
  {
   "cell_type": "code",
   "execution_count": 4,
   "metadata": {
    "collapsed": false
   },
   "outputs": [
    {
     "name": "stdout",
     "output_type": "stream",
     "text": [
      "Training...\n"
     ]
    },
    {
     "data": {
      "text/plain": [
       "Text(0,0.5,'loss')"
      ]
     },
     "execution_count": 4,
     "metadata": {},
     "output_type": "execute_result"
    },
    {
     "data": {
      "image/png": "[encoded data removed]",
      "text/plain": [
       "<Figure size 432x288 with 1 Axes>"
      ]
     },
     "metadata": {},
     "output_type": "display_data"
    }
   ],
   "source": [
    "print('Training...')\n",
    "history = model.fit(X_train, Y_train, batch_size=324, epochs=1000, shuffle=False, verbose=False)  # Shuffle False --> Important!!\n",
    "\n",
    "%matplotlib inline\n",
    "import matplotlib.pyplot as plt\n",
    "\n",
    "plt.plot(history.history['loss'])\n",
    "plt.title('model loss')\n",
    "plt.xlabel('epoch')\n",
    "plt.ylabel('loss')"
   ]
  },
  {
   "cell_type": "markdown",
   "metadata": {},
   "source": [
    "### Testing"
   ]
  },
  {
   "cell_type": "code",
   "execution_count": 5,
   "metadata": {},
   "outputs": [
    {
     "name": "stdout",
     "output_type": "stream",
     "text": [
      "Concordance Index for training dataset: 0.5616055775268072\nConcordance Index for test dataset: 0.6221451876019576\nn=432, number of events=114\n\n        coef  exp(coef)  se(coef)       z      p  lower 0.95  upper 0.95    \nfin  -0.3794     0.6843    0.1914 -1.9826 0.0474     -0.7545     -0.0043   *\nage  -0.0574     0.9442    0.0220 -2.6109 0.0090     -0.1006     -0.0143  **\nrace  0.3139     1.3688    0.3080  1.0192 0.3081     -0.2898      0.9176    \nwexp -0.1498     0.8609    0.2122 -0.7058 0.4803     -0.5657      0.2662    \nmar  -0.4337     0.6481    0.3819 -1.1357 0.2561     -1.1822      0.3147    \nparo -0.0849     0.9186    0.1958 -0.4336 0.6646     -0.4685      0.2988    \nprio  0.0915     1.0958    0.0286  3.1938 0.0014      0.0353      0.1476  **\n---\nSignif. codes:  0 '***' 0.001 '**' 0.01 '*' 0.05 '.' 0.1 ' ' 1 \n\nConcordance = 0.640\nLikelihood ratio test = 33.266 on 7 df, p=0.00002\n"
     ]
    }
   ],
   "source": [
    "hr_pred = model.predict(X_train)\n",
    "hr_pred = np.exp(hr_pred)\n",
    "ci = concordance_index(Y_train,-hr_pred,E_train)\n",
    "\n",
    "hr_pred2 = model.predict(X_val)\n",
    "hr_pred2 = np.exp(hr_pred2)\n",
    "ci2 = concordance_index(Y_val,-hr_pred2,E_val)\n",
    "print('Concordance Index for training dataset:', ci)\n",
    "print('Concordance Index for test dataset:', ci2)\n",
    "\n",
    "# Cox Fitting\n",
    "cf = CoxPHFitter()\n",
    "cf.fit(rossi_dataset, 'week', event_col='arrest')\n",
    "\n",
    "cf.print_summary()  # access the results using cf.summary"
   ]
  },
  {
   "cell_type": "code",
   "execution_count": null,
   "metadata": {},
   "outputs": [],
   "source": []
  }
 ],
 "metadata": {
  "kernelspec": {
   "display_name": "Python 2",
   "language": "python",
   "name": "python2"
  },
  "language_info": {
   "codemirror_mode": {
    "name": "ipython",
    "version": 2
   },
   "file_extension": ".py",
   "mimetype": "text/x-python",
   "name": "python",
   "nbconvert_exporter": "python",
   "pygments_lexer": "ipython2",
   "version": "2.7.6"
  }
 },
 "nbformat": 4,
 "nbformat_minor": 0
}
