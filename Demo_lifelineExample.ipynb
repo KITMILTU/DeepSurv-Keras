{
 "cells": [
  {
   "cell_type": "markdown",
   "metadata": {
    "collapsed": true
   },
   "source": [
    "### DeepSurv on Keras 2.x"
   ]
  },
  {
   "cell_type": "code",
   "execution_count": 1,
   "metadata": {},
   "outputs": [
    {
     "name": "stderr",
     "output_type": "stream",
     "text": [
      "Using TensorFlow backend.\n"
     ]
    },
    {
     "name": "stderr",
     "output_type": "stream",
     "text": [
      "C:\\Users\\T.Uemura\\Envs\\python3.6\\lib\\site-packages\\sklearn\\cross_validation.py:41: DeprecationWarning: This module was deprecated in version 0.18 in favor of the model_selection module into which all the refactored classes and functions are moved. Also note that the interface of the new CV iterators are different from that of this module. This module will be removed in 0.20.\n  \"This module will be removed in 0.20.\", DeprecationWarning)\n"
     ]
    }
   ],
   "source": [
    "# Survival Analysis using Keras\n",
    "import numpy as np\n",
    "\n",
    "from keras.optimizers import SGD, RMSprop\n",
    "\n",
    "from lifelines.utils import concordance_index\n",
    "from lifelines import CoxPHFitter\n",
    "\n",
    "from lifelines.datasets import load_rossi\n",
    "from sklearn.cross_validation import train_test_split\n",
    "from sklearn import preprocessing\n",
    "\n",
    "import deepsurv_keras"
   ]
  },
  {
   "cell_type": "markdown",
   "metadata": {},
   "source": [
    "### Load Rossi dataset"
   ]
  },
  {
   "cell_type": "code",
   "execution_count": null,
   "metadata": {},
   "outputs": [],
   "source": [
    "rossi_dataset = load_rossi()\n",
    "E = np.array(rossi_dataset[\"arrest\"])\n",
    "Y = np.array(rossi_dataset[\"week\"])\n",
    "X = np.array(rossi_dataset)\n",
    "X = X.astype('float64')\n",
    "X = X[:, 2:]\n",
    "\n",
    "X_train, X_val, Y_train, Y_val = train_test_split(X, Y, test_size=0.25, random_state=0)\n",
    "X_train, X_val, E_train, E_val = train_test_split(X, E, test_size=0.25, random_state=0)\n",
    "\n",
    "# Standardize\n",
    "scaler = preprocessing.StandardScaler().fit(X_train[:, [1, 6]])\n",
    "X_train[:, [1, 6]] = scaler.transform(X_train[:, [1, 6]])\n",
    "X_val[:, [1, 6]] = scaler.transform(X_val[:, [1, 6]])\n",
    "\n",
    "# Sorting for NNL!\n",
    "sort_idx = np.argsort(Y_train)[::-1]\n",
    "X_train = X_train[sort_idx]\n",
    "Y_train = Y_train[sort_idx]\n",
    "E_train = E_train[sort_idx]"
   ]
  },
  {
   "cell_type": "markdown",
   "metadata": {},
   "source": [
    "### Build and train DeepSurv on Keras 2.x"
   ]
  },
  {
   "cell_type": "code",
   "execution_count": null,
   "metadata": {},
   "outputs": [],
   "source": [
    "model = deepsurv_keras.build_model()\n",
    "\n",
    "sgd = SGD(lr=1e-5, decay=0.01, momentum=0.9, nesterov=True)\n",
    "rmsprop = RMSprop(lr=1e-5, rho=0.9, epsilon=1e-8)\n",
    "model.compile(loss=negative_log_likelihood(E_train), optimizer=sgd)"
   ]
  },
  {
   "cell_type": "code",
   "execution_count": null,
   "metadata": {},
   "outputs": [],
   "source": [
    "print('Training...')\n",
    "model.fit(X_train, Y_train, batch_size=324, epochs=1000, shuffle=False)  # Shuffle False --> Important!!"
   ]
  },
  {
   "cell_type": "markdown",
   "metadata": {},
   "source": [
    "### Testing"
   ]
  },
  {
   "cell_type": "code",
   "execution_count": null,
   "metadata": {},
   "outputs": [],
   "source": [
    "hr_pred = model.predict(X_train)\n",
    "hr_pred = np.exp(hr_pred)\n",
    "ci = concordance_index(Y_train,-hr_pred,E_train)\n",
    "\n",
    "hr_pred2 = model.predict(X_val)\n",
    "hr_pred2 = np.exp(hr_pred2)\n",
    "ci2 = concordance_index(Y_val,-hr_pred2,E_val)\n",
    "print('Concordance Index for training dataset:', ci)\n",
    "print('Concordance Index for test dataset:', ci2)\n",
    "\n",
    "# Cox Fitting\n",
    "cf = CoxPHFitter()\n",
    "cf.fit(rossi_dataset, 'week', event_col='arrest')\n",
    "\n",
    "cf.print_summary()  # access the results using cf.summary"
   ]
  }
 ],
 "metadata": {
  "kernelspec": {
   "display_name": "Python 2",
   "language": "python",
   "name": "python2"
  },
  "language_info": {
   "codemirror_mode": {
    "name": "ipython",
    "version": 2
   },
   "file_extension": ".py",
   "mimetype": "text/x-python",
   "name": "python",
   "nbconvert_exporter": "python",
   "pygments_lexer": "ipython2",
   "version": "2.7.6"
  }
 },
 "nbformat": 4,
 "nbformat_minor": 0
}
